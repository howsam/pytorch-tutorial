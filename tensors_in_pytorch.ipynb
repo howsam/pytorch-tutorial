{
  "nbformat": 4,
  "nbformat_minor": 0,
  "metadata": {
    "colab": {
      "name": "tensors-in-pytorch.ipynb",
      "provenance": [],
      "authorship_tag": "ABX9TyPJnHo86F9SouJBd45Ugvfj",
      "include_colab_link": true
    },
    "kernelspec": {
      "name": "python3",
      "display_name": "Python 3"
    }
  },
  "cells": [
    {
      "cell_type": "markdown",
      "metadata": {
        "id": "view-in-github",
        "colab_type": "text"
      },
      "source": [
        "<a href=\"https://colab.research.google.com/github/howsam/pytorch-tutorial/blob/master/tensors_in_pytorch.ipynb\" target=\"_parent\"><img src=\"https://colab.research.google.com/assets/colab-badge.svg\" alt=\"Open In Colab\"/></a>"
      ]
    },
    {
      "cell_type": "code",
      "metadata": {
        "id": "UDo1B3u_jBGo",
        "colab_type": "code",
        "colab": {}
      },
      "source": [
        "import torch"
      ],
      "execution_count": 0,
      "outputs": []
    },
    {
      "cell_type": "markdown",
      "metadata": {
        "id": "TxEcUq6_-pci",
        "colab_type": "text"
      },
      "source": [
        "# Tensor"
      ]
    },
    {
      "cell_type": "markdown",
      "metadata": {
        "id": "cyPJxNDWsG_z",
        "colab_type": "text"
      },
      "source": [
        "## 0-d Tensor"
      ]
    },
    {
      "cell_type": "code",
      "metadata": {
        "id": "_Fy6Fu_XjV9b",
        "colab_type": "code",
        "outputId": "5fa8e001-4eb2-461e-e4de-8ee346a20d27",
        "colab": {
          "base_uri": "https://localhost:8080/",
          "height": 34
        }
      },
      "source": [
        "tensor0d = torch.tensor(1)\n",
        "print(tensor0d)"
      ],
      "execution_count": 4,
      "outputs": [
        {
          "output_type": "stream",
          "text": [
            "tensor(1)\n"
          ],
          "name": "stdout"
        }
      ]
    },
    {
      "cell_type": "markdown",
      "metadata": {
        "id": "Zz_RqyEZ-OpW",
        "colab_type": "text"
      },
      "source": [
        "## 1-d Tensor"
      ]
    },
    {
      "cell_type": "code",
      "metadata": {
        "id": "j7cXkREqjf1O",
        "colab_type": "code",
        "outputId": "3531ad13-6680-4be3-f60b-d9785ca7f8b3",
        "colab": {
          "base_uri": "https://localhost:8080/",
          "height": 34
        }
      },
      "source": [
        "tensor1d = torch.tensor([1, -1, 15, 1000])\n",
        "print(tensor1d)"
      ],
      "execution_count": 5,
      "outputs": [
        {
          "output_type": "stream",
          "text": [
            "tensor([   1,   -1,   15, 1000])\n"
          ],
          "name": "stdout"
        }
      ]
    },
    {
      "cell_type": "markdown",
      "metadata": {
        "id": "UxlEGunV-StZ",
        "colab_type": "text"
      },
      "source": [
        "## 2-d Tensor"
      ]
    },
    {
      "cell_type": "code",
      "metadata": {
        "id": "mLHHR7ZvkH7C",
        "colab_type": "code",
        "outputId": "1e8bfd9a-6619-4f4d-dbf2-2ad32b2404d6",
        "colab": {
          "base_uri": "https://localhost:8080/",
          "height": 87
        }
      },
      "source": [
        "tensor2d = torch.tensor([[-10,  11,   1.5],\n",
        "                         [ 5.6, 88,  10.0],\n",
        "                         [ 2.3, 36, -10.0],\n",
        "                         [ 2.0, 12,   0.2]])\n",
        "print(tensor2d)"
      ],
      "execution_count": 6,
      "outputs": [
        {
          "output_type": "stream",
          "text": [
            "tensor([[-10.0000,  11.0000,   1.5000],\n",
            "        [  5.6000,  88.0000,  10.0000],\n",
            "        [  2.3000,  36.0000, -10.0000],\n",
            "        [  2.0000,  12.0000,   0.2000]])\n"
          ],
          "name": "stdout"
        }
      ]
    },
    {
      "cell_type": "markdown",
      "metadata": {
        "id": "PsWhZAyX-fdY",
        "colab_type": "text"
      },
      "source": [
        "## 3-d Tensor"
      ]
    },
    {
      "cell_type": "code",
      "metadata": {
        "id": "cRy1uw-5mux7",
        "colab_type": "code",
        "outputId": "f3f6f3c7-2845-4ee7-b508-64aff0dc27bf",
        "colab": {
          "base_uri": "https://localhost:8080/",
          "height": 176
        }
      },
      "source": [
        "tensor3d = torch.tensor([[[-10,   11,   1.50],\n",
        "                         [ 5.6,   88,   10.0],\n",
        "                         [ 2.3,   36,  -10.0],\n",
        "                         [ 2.0,   12,    0.2]],\n",
        "                         [[-1.0,  11,   1.50],\n",
        "                          [ 0.6,  88,   1.00],\n",
        "                          [ 0.3,  3.6, -10.0],\n",
        "                          [ 2.1,  1.2,  4.20]]])\n",
        "print(tensor3d)"
      ],
      "execution_count": 7,
      "outputs": [
        {
          "output_type": "stream",
          "text": [
            "tensor([[[-10.0000,  11.0000,   1.5000],\n",
            "         [  5.6000,  88.0000,  10.0000],\n",
            "         [  2.3000,  36.0000, -10.0000],\n",
            "         [  2.0000,  12.0000,   0.2000]],\n",
            "\n",
            "        [[ -1.0000,  11.0000,   1.5000],\n",
            "         [  0.6000,  88.0000,   1.0000],\n",
            "         [  0.3000,   3.6000, -10.0000],\n",
            "         [  2.1000,   1.2000,   4.2000]]])\n"
          ],
          "name": "stdout"
        }
      ]
    },
    {
      "cell_type": "markdown",
      "metadata": {
        "id": "Co0uRUoY-jmK",
        "colab_type": "text"
      },
      "source": [
        "# Tensor Attributes"
      ]
    },
    {
      "cell_type": "code",
      "metadata": {
        "id": "giZkito7nYlS",
        "colab_type": "code",
        "outputId": "fcc4317f-545e-4e42-f721-02208467ded4",
        "colab": {
          "base_uri": "https://localhost:8080/",
          "height": 34
        }
      },
      "source": [
        "dims = tensor2d.shape\n",
        "\n",
        "print(dims)"
      ],
      "execution_count": 8,
      "outputs": [
        {
          "output_type": "stream",
          "text": [
            "torch.Size([4, 3])\n"
          ],
          "name": "stdout"
        }
      ]
    },
    {
      "cell_type": "code",
      "metadata": {
        "id": "J5ObmCn4o6Fu",
        "colab_type": "code",
        "outputId": "9e10f3db-f778-4d91-bfe4-f73a22e100ee",
        "colab": {
          "base_uri": "https://localhost:8080/",
          "height": 34
        }
      },
      "source": [
        "dims2 = tensor2d.size()\n",
        "\n",
        "print(dims2)"
      ],
      "execution_count": 9,
      "outputs": [
        {
          "output_type": "stream",
          "text": [
            "torch.Size([4, 3])\n"
          ],
          "name": "stdout"
        }
      ]
    },
    {
      "cell_type": "code",
      "metadata": {
        "id": "IE_P4W6moidg",
        "colab_type": "code",
        "outputId": "12635f57-be24-47ab-ebf7-20a8c220d527",
        "colab": {
          "base_uri": "https://localhost:8080/",
          "height": 34
        }
      },
      "source": [
        "dtype = tensor1d.dtype\n",
        "\n",
        "print(dtype)"
      ],
      "execution_count": 10,
      "outputs": [
        {
          "output_type": "stream",
          "text": [
            "torch.int64\n"
          ],
          "name": "stdout"
        }
      ]
    },
    {
      "cell_type": "code",
      "metadata": {
        "id": "MD2-Wc4bozQ9",
        "colab_type": "code",
        "colab": {}
      },
      "source": [
        ""
      ],
      "execution_count": 0,
      "outputs": []
    }
  ]
}