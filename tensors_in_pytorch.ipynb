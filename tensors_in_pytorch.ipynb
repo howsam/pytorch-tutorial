{
  "nbformat": 4,
  "nbformat_minor": 0,
  "metadata": {
    "colab": {
      "name": "tensors-in-pytorch.ipynb",
      "provenance": [],
      "authorship_tag": "ABX9TyNj8cC361/0JPtEwGuHlwPc",
      "include_colab_link": true
    },
    "kernelspec": {
      "name": "python3",
      "display_name": "Python 3"
    }
  },
  "cells": [
    {
      "cell_type": "markdown",
      "metadata": {
        "id": "view-in-github",
        "colab_type": "text"
      },
      "source": [
        "<a href=\"https://colab.research.google.com/github/howsam/pytorch-tutorial/blob/master/tensors_in_pytorch.ipynb\" target=\"_parent\"><img src=\"https://colab.research.google.com/assets/colab-badge.svg\" alt=\"Open In Colab\"/></a>"
      ]
    },
    {
      "cell_type": "code",
      "metadata": {
        "id": "UDo1B3u_jBGo",
        "colab_type": "code",
        "colab": {}
      },
      "source": [
        "import torch"
      ],
      "execution_count": 0,
      "outputs": []
    },
    {
      "cell_type": "code",
      "metadata": {
        "id": "_Fy6Fu_XjV9b",
        "colab_type": "code",
        "colab": {
          "base_uri": "https://localhost:8080/",
          "height": 34
        },
        "outputId": "d30db5ac-9ddf-477d-a11c-2287ccf34ef2"
      },
      "source": [
        "tensor0d = torch.tensor(1)\n",
        "\n",
        "print(tensor0d)"
      ],
      "execution_count": 9,
      "outputs": [
        {
          "output_type": "stream",
          "text": [
            "tensor(1)\n"
          ],
          "name": "stdout"
        }
      ]
    },
    {
      "cell_type": "code",
      "metadata": {
        "id": "j7cXkREqjf1O",
        "colab_type": "code",
        "colab": {
          "base_uri": "https://localhost:8080/",
          "height": 34
        },
        "outputId": "7de08004-08cd-4bd6-af0b-14f24df87a7d"
      },
      "source": [
        "tensor1d = torch.tensor([1, -1, 15, 1000])\n",
        "\n",
        "print(tensor1d)"
      ],
      "execution_count": 15,
      "outputs": [
        {
          "output_type": "stream",
          "text": [
            "tensor([   1,   -1,   15, 1000])\n"
          ],
          "name": "stdout"
        }
      ]
    },
    {
      "cell_type": "code",
      "metadata": {
        "id": "mLHHR7ZvkH7C",
        "colab_type": "code",
        "colab": {
          "base_uri": "https://localhost:8080/",
          "height": 87
        },
        "outputId": "3b41d7f5-d4f1-4fc2-a882-c3f5a96b79a0"
      },
      "source": [
        "tensor2d = torch.tensor([[-10,  11,   1.5],\n",
        "                         [ 5.6, 88,  10.0],\n",
        "                         [ 2.3, 36, -10.0],\n",
        "                         [ 2.0, 12,   0.2]])\n",
        "\n",
        "print(tensor2d)"
      ],
      "execution_count": 11,
      "outputs": [
        {
          "output_type": "stream",
          "text": [
            "tensor([[-10.0000,  11.0000,   1.5000],\n",
            "        [  5.6000,  88.0000,  10.0000],\n",
            "        [  2.3000,  36.0000, -10.0000],\n",
            "        [  2.0000,  12.0000,   0.2000]])\n"
          ],
          "name": "stdout"
        }
      ]
    },
    {
      "cell_type": "code",
      "metadata": {
        "id": "cRy1uw-5mux7",
        "colab_type": "code",
        "colab": {
          "base_uri": "https://localhost:8080/",
          "height": 176
        },
        "outputId": "0bb9be80-2aca-4808-a5e7-724d9b029b2a"
      },
      "source": [
        "tensor3d = torch.tensor([[[-10,   11,   1.50],\n",
        "                         [ 5.6,   88,   10.0],\n",
        "                         [ 2.3,   36,  -10.0],\n",
        "                         [ 2.0,   12,    0.2]],\n",
        "                         [[-1.0,  11,   1.50],\n",
        "                          [ 0.6,  88,   1.00],\n",
        "                          [ 0.3,  3.6, -10.0],\n",
        "                          [ 2.1,  1.2,  4.20]]\n",
        "                         ])\n",
        "\n",
        "print(tensor3d)"
      ],
      "execution_count": 13,
      "outputs": [
        {
          "output_type": "stream",
          "text": [
            "tensor([[[-10.0000,  11.0000,   1.5000],\n",
            "         [  5.6000,  88.0000,  10.0000],\n",
            "         [  2.3000,  36.0000, -10.0000],\n",
            "         [  2.0000,  12.0000,   0.2000]],\n",
            "\n",
            "        [[ -1.0000,  11.0000,   1.5000],\n",
            "         [  0.6000,  88.0000,   1.0000],\n",
            "         [  0.3000,   3.6000, -10.0000],\n",
            "         [  2.1000,   1.2000,   4.2000]]])\n"
          ],
          "name": "stdout"
        }
      ]
    },
    {
      "cell_type": "code",
      "metadata": {
        "id": "giZkito7nYlS",
        "colab_type": "code",
        "colab": {
          "base_uri": "https://localhost:8080/",
          "height": 34
        },
        "outputId": "6c463154-373e-47a8-cee9-530d855df203"
      },
      "source": [
        "dims = tensor2d.shape\n",
        "\n",
        "print(dims)"
      ],
      "execution_count": 17,
      "outputs": [
        {
          "output_type": "stream",
          "text": [
            "torch.Size([4, 3])\n"
          ],
          "name": "stdout"
        }
      ]
    },
    {
      "cell_type": "code",
      "metadata": {
        "id": "J5ObmCn4o6Fu",
        "colab_type": "code",
        "colab": {
          "base_uri": "https://localhost:8080/",
          "height": 34
        },
        "outputId": "7f7f3317-022c-4798-ca52-0ed105efe06d"
      },
      "source": [
        "dims2 = tensor2d.size()\n",
        "\n",
        "print(dims2)"
      ],
      "execution_count": 21,
      "outputs": [
        {
          "output_type": "stream",
          "text": [
            "torch.Size([4, 3])\n"
          ],
          "name": "stdout"
        }
      ]
    },
    {
      "cell_type": "code",
      "metadata": {
        "id": "IE_P4W6moidg",
        "colab_type": "code",
        "colab": {
          "base_uri": "https://localhost:8080/",
          "height": 34
        },
        "outputId": "3f14316e-07aa-4976-afd2-51dd34b34938"
      },
      "source": [
        "dtype = tensor1d.dtype\n",
        "\n",
        "print(dtype)"
      ],
      "execution_count": 19,
      "outputs": [
        {
          "output_type": "stream",
          "text": [
            "torch.int64\n"
          ],
          "name": "stdout"
        }
      ]
    },
    {
      "cell_type": "code",
      "metadata": {
        "id": "MD2-Wc4bozQ9",
        "colab_type": "code",
        "colab": {}
      },
      "source": [
        ""
      ],
      "execution_count": 0,
      "outputs": []
    }
  ]
}