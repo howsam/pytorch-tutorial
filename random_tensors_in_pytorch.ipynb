{
  "nbformat": 4,
  "nbformat_minor": 0,
  "metadata": {
    "colab": {
      "name": "random-tensors-in-pytorch.ipynb",
      "provenance": [],
      "authorship_tag": "ABX9TyNpzFnhFCVHJmpVUEM5NXfW",
      "include_colab_link": true
    },
    "kernelspec": {
      "name": "python3",
      "display_name": "Python 3"
    }
  },
  "cells": [
    {
      "cell_type": "markdown",
      "metadata": {
        "id": "view-in-github",
        "colab_type": "text"
      },
      "source": [
        "<a href=\"https://colab.research.google.com/github/howsam/pytorch-tutorial/blob/master/random_tensors_in_pytorch.ipynb\" target=\"_parent\"><img src=\"https://colab.research.google.com/assets/colab-badge.svg\" alt=\"Open In Colab\"/></a>"
      ]
    },
    {
      "cell_type": "code",
      "metadata": {
        "id": "5J_UX2acXojL",
        "colab_type": "code",
        "colab": {}
      },
      "source": [
        "import torch"
      ],
      "execution_count": 0,
      "outputs": []
    },
    {
      "cell_type": "markdown",
      "metadata": {
        "id": "uxxw5rlxYBhD",
        "colab_type": "text"
      },
      "source": [
        "# rand"
      ]
    },
    {
      "cell_type": "code",
      "metadata": {
        "id": "2ilXDjzOYGZl",
        "colab_type": "code",
        "colab": {}
      },
      "source": [
        ""
      ],
      "execution_count": 0,
      "outputs": []
    },
    {
      "cell_type": "markdown",
      "metadata": {
        "id": "WTx3ZCdtYHND",
        "colab_type": "text"
      },
      "source": [
        "# randint"
      ]
    },
    {
      "cell_type": "code",
      "metadata": {
        "id": "CvAxP6uqYQFF",
        "colab_type": "code",
        "colab": {}
      },
      "source": [
        ""
      ],
      "execution_count": 0,
      "outputs": []
    },
    {
      "cell_type": "markdown",
      "metadata": {
        "id": "9Xfrp-FOYURk",
        "colab_type": "text"
      },
      "source": [
        "# randn"
      ]
    },
    {
      "cell_type": "code",
      "metadata": {
        "id": "mWVgjvIyYWzw",
        "colab_type": "code",
        "colab": {}
      },
      "source": [
        ""
      ],
      "execution_count": 0,
      "outputs": []
    },
    {
      "cell_type": "markdown",
      "metadata": {
        "id": "Uc_Gp3pBYdIS",
        "colab_type": "text"
      },
      "source": [
        "# randperm"
      ]
    },
    {
      "cell_type": "code",
      "metadata": {
        "id": "6bxTUNKqYfmx",
        "colab_type": "code",
        "colab": {}
      },
      "source": [
        ""
      ],
      "execution_count": 0,
      "outputs": []
    },
    {
      "cell_type": "markdown",
      "metadata": {
        "id": "DGnEWN9cYhBz",
        "colab_type": "text"
      },
      "source": [
        "# normal"
      ]
    },
    {
      "cell_type": "code",
      "metadata": {
        "id": "nba8Wu3CYi2z",
        "colab_type": "code",
        "colab": {}
      },
      "source": [
        ""
      ],
      "execution_count": 0,
      "outputs": []
    },
    {
      "cell_type": "markdown",
      "metadata": {
        "id": "cwdyqBiwYjgz",
        "colab_type": "text"
      },
      "source": [
        "# possion"
      ]
    },
    {
      "cell_type": "code",
      "metadata": {
        "id": "NBkyTHUvY94p",
        "colab_type": "code",
        "colab": {}
      },
      "source": [
        ""
      ],
      "execution_count": 0,
      "outputs": []
    },
    {
      "cell_type": "markdown",
      "metadata": {
        "id": "prxNfwtQY2q1",
        "colab_type": "text"
      },
      "source": [
        "# multinomial"
      ]
    },
    {
      "cell_type": "code",
      "metadata": {
        "id": "_wBAaYHBY7eV",
        "colab_type": "code",
        "colab": {}
      },
      "source": [
        ""
      ],
      "execution_count": 0,
      "outputs": []
    },
    {
      "cell_type": "markdown",
      "metadata": {
        "id": "weTUv_ceY4wU",
        "colab_type": "text"
      },
      "source": [
        "# bernoulli"
      ]
    },
    {
      "cell_type": "code",
      "metadata": {
        "id": "7oy2z4mqY8TB",
        "colab_type": "code",
        "colab": {}
      },
      "source": [
        ""
      ],
      "execution_count": 0,
      "outputs": []
    },
    {
      "cell_type": "markdown",
      "metadata": {
        "id": "oqEd0mOSY8ph",
        "colab_type": "text"
      },
      "source": [
        "# seed"
      ]
    },
    {
      "cell_type": "code",
      "metadata": {
        "id": "xWX-LuuuZBaP",
        "colab_type": "code",
        "colab": {}
      },
      "source": [
        ""
      ],
      "execution_count": 0,
      "outputs": []
    }
  ]
}