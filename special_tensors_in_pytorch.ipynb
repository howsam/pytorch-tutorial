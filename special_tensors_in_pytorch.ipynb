{
  "nbformat": 4,
  "nbformat_minor": 0,
  "metadata": {
    "colab": {
      "name": "special-tensors-in-pytorch.ipynb",
      "provenance": [],
      "authorship_tag": "ABX9TyP4vxB2aYrHRFO5pYAeLNi1",
      "include_colab_link": true
    },
    "kernelspec": {
      "name": "python3",
      "display_name": "Python 3"
    }
  },
  "cells": [
    {
      "cell_type": "markdown",
      "metadata": {
        "id": "view-in-github",
        "colab_type": "text"
      },
      "source": [
        "<a href=\"https://colab.research.google.com/github/howsam/pytorch-tutorial/blob/master/special_tensors_in_pytorch.ipynb\" target=\"_parent\"><img src=\"https://colab.research.google.com/assets/colab-badge.svg\" alt=\"Open In Colab\"/></a>"
      ]
    },
    {
      "cell_type": "code",
      "metadata": {
        "id": "1hXDEVOW93MB",
        "colab_type": "code",
        "colab": {}
      },
      "source": [
        "import torch"
      ],
      "execution_count": 0,
      "outputs": []
    },
    {
      "cell_type": "markdown",
      "metadata": {
        "id": "3TYMQQ2qTMzZ",
        "colab_type": "text"
      },
      "source": [
        "# zeros"
      ]
    },
    {
      "cell_type": "code",
      "metadata": {
        "id": "qkBStWbW96N1",
        "colab_type": "code",
        "outputId": "57dfaf06-be73-47a6-8a0f-89854e7b8deb",
        "colab": {
          "base_uri": "https://localhost:8080/",
          "height": 34
        }
      },
      "source": [
        "zeros0d = torch.zeros(1)\n",
        "print(zeros0d)"
      ],
      "execution_count": 3,
      "outputs": [
        {
          "output_type": "stream",
          "text": [
            "tensor([0.])\n"
          ],
          "name": "stdout"
        }
      ]
    },
    {
      "cell_type": "code",
      "metadata": {
        "id": "HhKQF61p9_RM",
        "colab_type": "code",
        "outputId": "a24226ae-b5ba-4124-f8ac-31ab56154d5c",
        "colab": {
          "base_uri": "https://localhost:8080/",
          "height": 34
        }
      },
      "source": [
        "zeros1d = torch.zeros(5)\n",
        "print(zeros1d)"
      ],
      "execution_count": 4,
      "outputs": [
        {
          "output_type": "stream",
          "text": [
            "tensor([0., 0., 0., 0., 0.])\n"
          ],
          "name": "stdout"
        }
      ]
    },
    {
      "cell_type": "code",
      "metadata": {
        "colab_type": "code",
        "outputId": "348578d2-994e-4a23-e922-77eeb92e88d4",
        "id": "cV9aCAkrAtAc",
        "colab": {
          "base_uri": "https://localhost:8080/",
          "height": 51
        }
      },
      "source": [
        "zeros2d = torch.zeros(2, 3)\n",
        "print(zeros2d)"
      ],
      "execution_count": 5,
      "outputs": [
        {
          "output_type": "stream",
          "text": [
            "tensor([[0., 0., 0.],\n",
            "        [0., 0., 0.]])\n"
          ],
          "name": "stdout"
        }
      ]
    },
    {
      "cell_type": "code",
      "metadata": {
        "id": "WCfF7lmCBQwp",
        "colab_type": "code",
        "outputId": "92e924a0-a72e-4543-8292-f07ce119f267",
        "colab": {
          "base_uri": "https://localhost:8080/",
          "height": 34
        }
      },
      "source": [
        "zeros5d = torch.zeros(2, 3, 8, 6, 5)\n",
        "print(zeros5d.shape)"
      ],
      "execution_count": 6,
      "outputs": [
        {
          "output_type": "stream",
          "text": [
            "torch.Size([2, 3, 8, 6, 5])\n"
          ],
          "name": "stdout"
        }
      ]
    },
    {
      "cell_type": "markdown",
      "metadata": {
        "id": "eX_TKv8xTrb1",
        "colab_type": "text"
      },
      "source": [
        "# ones"
      ]
    },
    {
      "cell_type": "code",
      "metadata": {
        "id": "HAzEAlHsJR_3",
        "colab_type": "code",
        "colab": {
          "base_uri": "https://localhost:8080/",
          "height": 136
        },
        "outputId": "1be74d05-120b-4018-c514-ed7cd93dfcc8"
      },
      "source": [
        "ones1d = torch.ones(4)\n",
        "print(ones1d)\n",
        "\n",
        "ones2d = torch.ones(4, 8)\n",
        "print(ones2d)\n",
        "\n",
        "ones2d = torch.ones(1, 2, 1, dtype=torch.int16)\n",
        "print(ones2d)"
      ],
      "execution_count": 7,
      "outputs": [
        {
          "output_type": "stream",
          "text": [
            "tensor([1., 1., 1., 1.])\n",
            "tensor([[1., 1., 1., 1., 1., 1., 1., 1.],\n",
            "        [1., 1., 1., 1., 1., 1., 1., 1.],\n",
            "        [1., 1., 1., 1., 1., 1., 1., 1.],\n",
            "        [1., 1., 1., 1., 1., 1., 1., 1.]])\n",
            "tensor([[[1],\n",
            "         [1]]], dtype=torch.int16)\n"
          ],
          "name": "stdout"
        }
      ]
    },
    {
      "cell_type": "markdown",
      "metadata": {
        "id": "TpkxS8tTTyHm",
        "colab_type": "text"
      },
      "source": [
        "# eye"
      ]
    },
    {
      "cell_type": "code",
      "metadata": {
        "id": "3778bjk6Lbw7",
        "colab_type": "code",
        "outputId": "6a9ad4b8-9538-42ff-a75b-6c445241faa4",
        "colab": {
          "base_uri": "https://localhost:8080/",
          "height": 187
        }
      },
      "source": [
        "eye1d = torch.eye(5)\n",
        "print(eye1d)\n",
        "\n",
        "eye2d = torch.eye(5, 4)\n",
        "print(eye2d)"
      ],
      "execution_count": 8,
      "outputs": [
        {
          "output_type": "stream",
          "text": [
            "tensor([[1., 0., 0., 0., 0.],\n",
            "        [0., 1., 0., 0., 0.],\n",
            "        [0., 0., 1., 0., 0.],\n",
            "        [0., 0., 0., 1., 0.],\n",
            "        [0., 0., 0., 0., 1.]])\n",
            "tensor([[1., 0., 0., 0.],\n",
            "        [0., 1., 0., 0.],\n",
            "        [0., 0., 1., 0.],\n",
            "        [0., 0., 0., 1.],\n",
            "        [0., 0., 0., 0.]])\n"
          ],
          "name": "stdout"
        }
      ]
    },
    {
      "cell_type": "markdown",
      "metadata": {
        "id": "7Ml0kYBoUkcN",
        "colab_type": "text"
      },
      "source": [
        "# full"
      ]
    },
    {
      "cell_type": "code",
      "metadata": {
        "id": "JmBIIIBvMrHh",
        "colab_type": "code",
        "outputId": "8e326e69-205a-45e7-fb50-e8313577b94e",
        "colab": {
          "base_uri": "https://localhost:8080/",
          "height": 102
        }
      },
      "source": [
        "full1d = torch.full((5, 5), -8.5)\n",
        "print(full1d)"
      ],
      "execution_count": 11,
      "outputs": [
        {
          "output_type": "stream",
          "text": [
            "tensor([[-8.5000, -8.5000, -8.5000, -8.5000, -8.5000],\n",
            "        [-8.5000, -8.5000, -8.5000, -8.5000, -8.5000],\n",
            "        [-8.5000, -8.5000, -8.5000, -8.5000, -8.5000],\n",
            "        [-8.5000, -8.5000, -8.5000, -8.5000, -8.5000],\n",
            "        [-8.5000, -8.5000, -8.5000, -8.5000, -8.5000]])\n"
          ],
          "name": "stdout"
        }
      ]
    },
    {
      "cell_type": "markdown",
      "metadata": {
        "id": "bHHyJxzPVhWv",
        "colab_type": "text"
      },
      "source": [
        "# arange"
      ]
    },
    {
      "cell_type": "code",
      "metadata": {
        "id": "RPW8qCeMVf6h",
        "colab_type": "code",
        "colab": {
          "base_uri": "https://localhost:8080/",
          "height": 51
        },
        "outputId": "4bd0ed97-9b85-4bec-ccba-3ebfcd8cfb3d"
      },
      "source": [
        "arange_tensor = torch.arange(0, 10, 1)\n",
        "print(arange_tensor)\n",
        "\n",
        "arange_tensor = torch.arange(10)\n",
        "print(arange_tensor)"
      ],
      "execution_count": 12,
      "outputs": [
        {
          "output_type": "stream",
          "text": [
            "tensor([0, 1, 2, 3, 4, 5, 6, 7, 8, 9])\n",
            "tensor([0, 1, 2, 3, 4, 5, 6, 7, 8, 9])\n"
          ],
          "name": "stdout"
        }
      ]
    },
    {
      "cell_type": "code",
      "metadata": {
        "id": "MKvZ2d2UVLLD",
        "colab_type": "code",
        "colab": {
          "base_uri": "https://localhost:8080/",
          "height": 51
        },
        "outputId": "43af3a7a-9fbb-475d-aeba-f34d4e15fddf"
      },
      "source": [
        "arange_tensor = torch.arange(1.5, 2.5, 0.1)\n",
        "print(arange_tensor)"
      ],
      "execution_count": 13,
      "outputs": [
        {
          "output_type": "stream",
          "text": [
            "tensor([1.5000, 1.6000, 1.7000, 1.8000, 1.9000, 2.0000, 2.1000, 2.2000, 2.3000,\n",
            "        2.4000])\n"
          ],
          "name": "stdout"
        }
      ]
    },
    {
      "cell_type": "markdown",
      "metadata": {
        "id": "RAe5IC0_WI19",
        "colab_type": "text"
      },
      "source": [
        "# linspace"
      ]
    },
    {
      "cell_type": "code",
      "metadata": {
        "id": "7OFXhB3oWIaj",
        "colab_type": "code",
        "colab": {
          "base_uri": "https://localhost:8080/",
          "height": 221
        },
        "outputId": "920e769c-e682-4498-b479-6cc01f1b3364"
      },
      "source": [
        "linspace_tensor = torch.linspace(0, 1, 100)\n",
        "print(linspace_tensor)"
      ],
      "execution_count": 14,
      "outputs": [
        {
          "output_type": "stream",
          "text": [
            "tensor([0.0000, 0.0101, 0.0202, 0.0303, 0.0404, 0.0505, 0.0606, 0.0707, 0.0808,\n",
            "        0.0909, 0.1010, 0.1111, 0.1212, 0.1313, 0.1414, 0.1515, 0.1616, 0.1717,\n",
            "        0.1818, 0.1919, 0.2020, 0.2121, 0.2222, 0.2323, 0.2424, 0.2525, 0.2626,\n",
            "        0.2727, 0.2828, 0.2929, 0.3030, 0.3131, 0.3232, 0.3333, 0.3434, 0.3535,\n",
            "        0.3636, 0.3737, 0.3838, 0.3939, 0.4040, 0.4141, 0.4242, 0.4343, 0.4444,\n",
            "        0.4545, 0.4646, 0.4747, 0.4848, 0.4949, 0.5051, 0.5152, 0.5253, 0.5354,\n",
            "        0.5455, 0.5556, 0.5657, 0.5758, 0.5859, 0.5960, 0.6061, 0.6162, 0.6263,\n",
            "        0.6364, 0.6465, 0.6566, 0.6667, 0.6768, 0.6869, 0.6970, 0.7071, 0.7172,\n",
            "        0.7273, 0.7374, 0.7475, 0.7576, 0.7677, 0.7778, 0.7879, 0.7980, 0.8081,\n",
            "        0.8182, 0.8283, 0.8384, 0.8485, 0.8586, 0.8687, 0.8788, 0.8889, 0.8990,\n",
            "        0.9091, 0.9192, 0.9293, 0.9394, 0.9495, 0.9596, 0.9697, 0.9798, 0.9899,\n",
            "        1.0000])\n"
          ],
          "name": "stdout"
        }
      ]
    },
    {
      "cell_type": "markdown",
      "metadata": {
        "id": "Woeg1mhNWVY5",
        "colab_type": "text"
      },
      "source": [
        "# empty"
      ]
    },
    {
      "cell_type": "code",
      "metadata": {
        "id": "k2exh0jvWUoj",
        "colab_type": "code",
        "colab": {
          "base_uri": "https://localhost:8080/",
          "height": 51
        },
        "outputId": "d7724cd2-0d4e-41d0-d8ce-d3742ee22e01"
      },
      "source": [
        "empty_tensor = torch.empty(2,2)\n",
        "print(empty_tensor)"
      ],
      "execution_count": 15,
      "outputs": [
        {
          "output_type": "stream",
          "text": [
            "tensor([[1.7925e-35, 0.0000e+00],\n",
            "        [3.3631e-44, 0.0000e+00]])\n"
          ],
          "name": "stdout"
        }
      ]
    }
  ]
}